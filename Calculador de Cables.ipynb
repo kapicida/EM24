{
 "cells": [
  {
   "cell_type": "markdown",
   "metadata": {},
   "source": [
    "# Cable RG 11\n",
    "##### Conductor Diametro 1.21 mm\n",
    "##### Dielectro Diametro 7.24 mm\n",
    "##### Shields Diametro 8.08 mm\n",
    "##### Jacket Diametro 10.29 mm\n",
    "##### Impedance 75 +- 3 Ohm\n",
    "##### Vp 65.9 %\n",
    "##### Capacitancia 67.6 pF/m\n",
    "##### Resistencia Continua \n",
    "##### 20 Ohm/Km Center Conductor\n",
    "##### 3.9 Ohm/Km Shield \n",
    "##### Test Freq 3 Ghz"
   ]
  },
  {
   "cell_type": "code",
   "execution_count": 77,
   "metadata": {},
   "outputs": [],
   "source": [
    "import numpy as np\n",
    "#Valores del Cable RG11\n",
    "\n",
    "#Diametro Conductor Interno en mm\n",
    "Di = 1.21\n",
    "ri = (Di/2) * 10**(-3)\n",
    "\n",
    "#Diametro Conductor Externo en mm\n",
    "De = 8.08\n",
    "re = (De/2)* 10**(-3)\n",
    "vp = 0.659 #Velocidad de Propagacion (En relacion a Co)\n",
    "\n",
    "#Resistencia DC Interno y Externo por Metro\n",
    "Rcci = 20 *(10**(-3))\n",
    "Rcce = 3.9 * (10**(-3))\n",
    "# Capacitancia por Metro\n",
    "Cl= 67.6 * 10**(-12)\n",
    "\n",
    "#Variables Auxiliares\n",
    "mu_0 = 4 * np.pi * 10**(-7)\n",
    "epsilon_0 = 8.854e-12\n",
    "c = 299792458\n",
    "#Frecuencia 100Mhz\n",
    "freq = 100 * 10**6 \n",
    "# Atenuación en dB a 100 MHz para 100 metros\n",
    "atdb100mhz = 2.3/100  # Atenuación en dB por 1 pies\n",
    "metro_a_pie = 3.28084\n",
    "metros = 100"
   ]
  },
  {
   "cell_type": "code",
   "execution_count": 96,
   "metadata": {},
   "outputs": [
    {
     "name": "stdout",
     "output_type": "stream",
     "text": [
      "La Resistencia del Conductor Interno en DC por Metro es de 0.02 Ohms\n",
      "La Resistencia del Conductor Externo en DC por Metro es de 0.0039 Ohms\n",
      "La Capacitancia por Metro es de 6.76e-11 F\n",
      "La Inductancia por Metro es de 3.80e-07 Hy\n"
     ]
    }
   ],
   "source": [
    "# Capacitancia por Metro\n",
    "Cl= 67.6 * 10**(-12)\n",
    "# Inductancia por Metro\n",
    "Ll = (mu_0 / (2 * np.pi)) * np.log(re / ri)\n",
    "print(f\"La Resistencia del Conductor Interno en DC por Metro es de {Rcci:.2f} Ohms\")\n",
    "print(f\"La Resistencia del Conductor Externo en DC por Metro es de {Rcce:.4f} Ohms\")\n",
    "print(f\"La Capacitancia por Metro es de {Cl:.2e} F\")\n",
    "print(f\"La Inductancia por Metro es de {Ll:.2e} Hy\")"
   ]
  },
  {
   "cell_type": "code",
   "execution_count": 79,
   "metadata": {},
   "outputs": [
    {
     "name": "stdout",
     "output_type": "stream",
     "text": [
      "La Conductividad del Conductor Interno es de 4.35e+07 S/m\n",
      "La Conductividad del Conductor Externo es de 5.00e+06 S/m\n"
     ]
    }
   ],
   "source": [
    "#Conductividad Electrica de los conducotres\n",
    "Ci = 1/(Rcci * np.pi * ((ri)**(2))) #Interno\n",
    "print(f\"La Conductividad del Conductor Interno es de {Ci:.2e} S/m\")\n",
    "\n",
    "Ce = 1/(Rcce * np.pi * ((re)**(2))) #Externo\n",
    "print(f\"La Conductividad del Conductor Externo es de {Ce:.2e} S/m\")"
   ]
  },
  {
   "cell_type": "code",
   "execution_count": 80,
   "metadata": {},
   "outputs": [
    {
     "name": "stdout",
     "output_type": "stream",
     "text": [
      "La Profundidad de Penetración Interna es de 7.63e-06 m\n",
      "La Profundidad de Penetración Externa es de 2.25e-05 m\n"
     ]
    }
   ],
   "source": [
    "# Profundidad de penetración\n",
    "Di = 1 / np.sqrt(np.pi * (mu_0) * freq * Ci)\n",
    "\n",
    "De = 1 / np.sqrt(np.pi * (mu_0) * freq * Ce)\n",
    "\n",
    "print(f\"La Profundidad de Penetración Interna es de {Di:.2e} m\")  \n",
    "print(f\"La Profundidad de Penetración Externa es de {De:.2e} m\")"
   ]
  },
  {
   "cell_type": "code",
   "execution_count": 81,
   "metadata": {},
   "outputs": [
    {
     "name": "stdout",
     "output_type": "stream",
     "text": [
      "La Resistencia a 100 MHz del Conductor Interno es de 2.52e-07 Ohmios\n",
      "La Resistencia a 100 MHz del Conductor Externo es de 7.44e-07 Ohmios\n"
     ]
    }
   ],
   "source": [
    "R100i = 1 / (2*np.pi*Di*Ci *(1/(ri)+1/(re)))\n",
    "R100e = 1 / (2*np.pi*De*Ce*(1/(ri)+1/(re)))\n",
    "\n",
    "print(f\"La Resistencia a 100 MHz del Conductor Interno es de {R100i:.2e} Ohmios\")\n",
    "print(f\"La Resistencia a 100 MHz del Conductor Externo es de {R100e:.2e} Ohmios\")"
   ]
  },
  {
   "cell_type": "code",
   "execution_count": 82,
   "metadata": {},
   "outputs": [
    {
     "name": "stdout",
     "output_type": "stream",
     "text": [
      "La Permitividad Electrica Relativa es de 2.30\n"
     ]
    }
   ],
   "source": [
    "Er = 1/vp**2\n",
    "print(f\"La Permitividad Electrica Relativa es de {Er:.2f}\")"
   ]
  },
  {
   "cell_type": "code",
   "execution_count": 83,
   "metadata": {},
   "outputs": [
    {
     "name": "stdout",
     "output_type": "stream",
     "text": [
      "La Velocidad de Propagacion en el Cable es de: 197563229.82 M/s\n"
     ]
    }
   ],
   "source": [
    "# Velocidad de Propagacion en el Conductor\n",
    "Vr = vp * c\n",
    "print(f\"La Velocidad de Propagacion en el Cable es de: {Vr:.2f} M/s\")"
   ]
  },
  {
   "cell_type": "code",
   "execution_count": 84,
   "metadata": {},
   "outputs": [
    {
     "name": "stdout",
     "output_type": "stream",
     "text": [
      "Longitud de Onda en el Cable a 100Mhz: 1.98 metros\n"
     ]
    }
   ],
   "source": [
    "#Longitud de Onda en el Cable a 100Mhz\n",
    "Lambda = Vr/freq\n",
    "print(f\"Longitud de Onda en el Cable a 100Mhz: {Lambda:.2f} metros\")"
   ]
  },
  {
   "cell_type": "code",
   "execution_count": 85,
   "metadata": {},
   "outputs": [
    {
     "name": "stdout",
     "output_type": "stream",
     "text": [
      "Atenuación a 100 MHz para 100 metros de cable: 7.55 dB\n"
     ]
    }
   ],
   "source": [
    "Atdb = atdb100mhz * metros * metro_a_pie\n",
    "print(f\"Atenuación a 100 MHz para 100 metros de cable: {Atdb:.2f} dB\")\n"
   ]
  },
  {
   "cell_type": "code",
   "execution_count": 86,
   "metadata": {},
   "outputs": [
    {
     "name": "stdout",
     "output_type": "stream",
     "text": [
      "El valor de Impedancia del Dielectrico es: 248.27 Ohm\n"
     ]
    }
   ],
   "source": [
    "N = np.sqrt(mu_0/(Er*epsilon_0))\n",
    "print(f\"El valor de Impedancia del Dielectrico es: {N:.2f} Ohm\")"
   ]
  },
  {
   "cell_type": "code",
   "execution_count": 87,
   "metadata": {},
   "outputs": [
    {
     "name": "stdout",
     "output_type": "stream",
     "text": [
      "El valor de la Impedancia Caracteristica del Cable es: 74.95 Ohm\n"
     ]
    }
   ],
   "source": [
    "Zo = np.sqrt(Ll/(Cl))\n",
    "print(f\"El valor de la Impedancia Caracteristica del Cable es: {Zo:.2f} Ohm\")"
   ]
  }
 ],
 "metadata": {
  "kernelspec": {
   "display_name": "Python 3",
   "language": "python",
   "name": "python3"
  },
  "language_info": {
   "codemirror_mode": {
    "name": "ipython",
    "version": 3
   },
   "file_extension": ".py",
   "mimetype": "text/x-python",
   "name": "python",
   "nbconvert_exporter": "python",
   "pygments_lexer": "ipython3",
   "version": "3.11.9"
  }
 },
 "nbformat": 4,
 "nbformat_minor": 2
}
