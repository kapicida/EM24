{
 "cells": [
  {
   "cell_type": "markdown",
   "metadata": {},
   "source": [
    "# Cable RG 11\n",
    "\n",
    "### Especificaciones Técnicas\n",
    "\n",
    "- **Conductor Diámetro:** 1.21 mm\n",
    "- **Dielectro Diámetro:** 7.24 mm\n",
    "- **Shields Diámetro:** 8.08 mm\n",
    "- **Jacket Diámetro:** 10.29 mm\n",
    "- **Impedancia:** 75 ± 3 Ohm\n",
    "- **Velocidad de Propagación (Vp):** 65.9 %\n",
    "- **Capacitancia:** 67.6 pF/m\n",
    "\n",
    "### Resistencia Continua\n",
    "- **Center Conductor:** 20 Ohm/Km\n",
    "- **Shield:** 3.9 Ohm/Km\n",
    "\n",
    "### Frecuencia de Prueba\n",
    "- **Frecuencia:** 3 GHz\n"
   ]
  },
  {
   "cell_type": "markdown",
   "metadata": {},
   "source": [
    "### Datos del Cable"
   ]
  },
  {
   "cell_type": "code",
   "execution_count": 23,
   "metadata": {},
   "outputs": [],
   "source": [
    "import numpy as np\n",
    "#Valores del Cable RG11\n",
    "\n",
    "#Diametro Conductor Interno en mm\n",
    "Di = 1.21\n",
    "ri = (Di/2) * 10**(-3)\n",
    "\n",
    "#Diametro Conductor Externo en mm\n",
    "De = 7.24\n",
    "re = (De/2) * 10**(-3)\n",
    "\n",
    "# Diametro del Shield\n",
    "De_Shield = 8.08\n",
    "re_shield = ( De_Shield / 2 ) * 10**(-3)\n",
    "\n",
    "vp = 0.659 #Velocidad de Propagacion (En relacion a Co)\n",
    "\n",
    "#Resistencia DC Interno y Externo por Metro\n",
    "Rcci = 20 * (10**(-3))\n",
    "Rcce = 3.9 * (10**(-3))\n",
    "# Capacitancia por Metro\n",
    "Cl= 67.6 * 10**(-12)\n",
    "\n",
    "#Variables Auxiliares\n",
    "mu_0 = 4 * np.pi * 10**(-7)\n",
    "epsilon_0 = 8.854e-12\n",
    "c = 299792458\n",
    "\n",
    "#Frecuencia 100Mhz\n",
    "freq = 100 * 10**6 \n",
    "\n",
    "# Atenuación en dB a 100 MHz para 100 metros\n",
    "atdb100mhz = 2.3/100  # Atenuación en dB por 1 pies\n",
    "metro_a_pie = 3.28084\n",
    "metros = 100"
   ]
  },
  {
   "cell_type": "markdown",
   "metadata": {},
   "source": [
    "### Calculo de Capacitancia y Inductancia"
   ]
  },
  {
   "cell_type": "code",
   "execution_count": 24,
   "metadata": {},
   "outputs": [
    {
     "name": "stdout",
     "output_type": "stream",
     "text": [
      "La Resistencia del Conductor Interno en DC por Metro es de 0.02 Ohms\n",
      "La Resistencia del Conductor Externo en DC por Metro es de 0.0039 Ohms\n",
      "La Capacitancia por Metro es de 6.76e-11 F\n",
      "La Inductancia por Metro es de 3.58e-07 Hy\n"
     ]
    }
   ],
   "source": [
    "# Capacitancia por Metro\n",
    "# Inductancia por Metro\n",
    "Ll = (mu_0 / (2 * np.pi)) * np.log(re / ri)\n",
    "print(f\"La Resistencia del Conductor Interno en DC por Metro es de {Rcci:.2f} Ohms\")\n",
    "print(f\"La Resistencia del Conductor Externo en DC por Metro es de {Rcce:.4f} Ohms\")\n",
    "print(f\"La Capacitancia por Metro es de {Cl:.2e} F\")\n",
    "print(f\"La Inductancia por Metro es de {Ll:.2e} Hy\")"
   ]
  },
  {
   "cell_type": "markdown",
   "metadata": {},
   "source": [
    "### Calculo de Conductividad"
   ]
  },
  {
   "cell_type": "code",
   "execution_count": 25,
   "metadata": {},
   "outputs": [
    {
     "name": "stdout",
     "output_type": "stream",
     "text": [
      "La Conductividad del Conductor Interno es de 4.34820e+07 S/m\n",
      "La Conductividad del Conductor Externo es de 2.53692e+07 S/m\n"
     ]
    }
   ],
   "source": [
    "#Conductividad Electrica de los conducotres\n",
    "Ci = 1/(Rcci * np.pi * ((ri)**(2))) #Interno\n",
    "print(f\"La Conductividad del Conductor Interno es de {Ci:.5e} S/m\")\n",
    "\n",
    "Ce = 1/(Rcce * np.pi * (((re_shield)**(2))-((re)**2))) #Externo\n",
    "print(f\"La Conductividad del Conductor Externo es de {Ce:.5e} S/m\")"
   ]
  },
  {
   "cell_type": "markdown",
   "metadata": {},
   "source": [
    "### Calculo de Profundidad de Penetracion"
   ]
  },
  {
   "cell_type": "code",
   "execution_count": 26,
   "metadata": {},
   "outputs": [
    {
     "name": "stdout",
     "output_type": "stream",
     "text": [
      "La Profundidad de Penetración Interna es de 7.63e-06 m\n",
      "La Profundidad de Penetración Externa es de 9.99e-06 m\n"
     ]
    }
   ],
   "source": [
    "# Profundidad de penetración\n",
    "Di = 1 / np.sqrt(np.pi * (mu_0) * freq * Ci)\n",
    "\n",
    "De = 1 / np.sqrt(np.pi * (mu_0) * freq * Ce)\n",
    "\n",
    "print(f\"La Profundidad de Penetración Interna es de {Di:.2e} m\")  \n",
    "print(f\"La Profundidad de Penetración Externa es de {De:.2e} m\")"
   ]
  },
  {
   "cell_type": "markdown",
   "metadata": {},
   "source": [
    "### Calculo de la Resistencia a 100MHz de los Conductores"
   ]
  },
  {
   "cell_type": "code",
   "execution_count": 27,
   "metadata": {},
   "outputs": [
    {
     "name": "stdout",
     "output_type": "stream",
     "text": [
      "La Resistencia a 100 MHz del Conductor Interno es de 0.79 Ohmios\n",
      "La Resistencia a 100 MHz del Conductor Externo es de 0.17 Ohmios\n"
     ]
    }
   ],
   "source": [
    "R100i = ( 1 / (2*np.pi*Di*Ci*ri) )\n",
    "R100e = ( 1 / (2*np.pi*De*Ce*re) )\n",
    "\n",
    "print(f\"La Resistencia a 100 MHz del Conductor Interno es de {R100i:.2f} Ohmios\")\n",
    "print(f\"La Resistencia a 100 MHz del Conductor Externo es de {R100e:.2f} Ohmios\")"
   ]
  },
  {
   "cell_type": "markdown",
   "metadata": {},
   "source": [
    "### Calculo de la Permitividad Electrica Relativa"
   ]
  },
  {
   "cell_type": "code",
   "execution_count": 28,
   "metadata": {},
   "outputs": [
    {
     "name": "stdout",
     "output_type": "stream",
     "text": [
      "La Permitividad Electrica Relativa es de 2.30\n"
     ]
    }
   ],
   "source": [
    "Er = 1/vp**2\n",
    "print(f\"La Permitividad Electrica Relativa es de {Er:.2f}\")"
   ]
  },
  {
   "cell_type": "markdown",
   "metadata": {},
   "source": [
    "### Calculo de la Velocidad de Propagacion"
   ]
  },
  {
   "cell_type": "code",
   "execution_count": 29,
   "metadata": {},
   "outputs": [
    {
     "name": "stdout",
     "output_type": "stream",
     "text": [
      "La Velocidad de Propagacion en el Cable es de: 197563229.82 M/s\n"
     ]
    }
   ],
   "source": [
    "# Velocidad de Propagacion en el Conductor\n",
    "Vr = vp * c\n",
    "print(f\"La Velocidad de Propagacion en el Cable es de: {Vr:.2f} M/s\")"
   ]
  },
  {
   "cell_type": "markdown",
   "metadata": {},
   "source": [
    "### Calculo de la Longitud de una Onda de 100MHz"
   ]
  },
  {
   "cell_type": "code",
   "execution_count": 30,
   "metadata": {},
   "outputs": [
    {
     "name": "stdout",
     "output_type": "stream",
     "text": [
      "Longitud de Onda en el Cable a 100Mhz: 1.98 metros\n"
     ]
    }
   ],
   "source": [
    "#Longitud de Onda en el Cable a 100Mhz\n",
    "Lambda = Vr/freq\n",
    "print(f\"Longitud de Onda en el Cable a 100Mhz: {Lambda:.2f} metros\")"
   ]
  },
  {
   "cell_type": "markdown",
   "metadata": {},
   "source": [
    "### Atenuacion para una onda de 100MHz en un cable de 100 metros"
   ]
  },
  {
   "cell_type": "code",
   "execution_count": 31,
   "metadata": {},
   "outputs": [
    {
     "name": "stdout",
     "output_type": "stream",
     "text": [
      "Atenuación a 100 MHz para 100 metros de cable: 7.55 dB\n"
     ]
    }
   ],
   "source": [
    "Atdb = atdb100mhz * metros * metro_a_pie\n",
    "print(f\"Atenuación a 100 MHz para 100 metros de cable: {Atdb:.2f} dB\")\n"
   ]
  },
  {
   "cell_type": "markdown",
   "metadata": {},
   "source": [
    "### Impedancia Intrinseca del Dielectrico"
   ]
  },
  {
   "cell_type": "code",
   "execution_count": 32,
   "metadata": {},
   "outputs": [
    {
     "name": "stdout",
     "output_type": "stream",
     "text": [
      "El valor de Impedancia del Dielectrico es: 248.27 Ohm\n"
     ]
    }
   ],
   "source": [
    "N = np.sqrt(mu_0/(Er*epsilon_0))\n",
    "\n",
    "print(f\"El valor de Impedancia del Dielectrico es: {N:.2f} Ohm\")"
   ]
  },
  {
   "cell_type": "markdown",
   "metadata": {},
   "source": [
    "### Impedancia Caracteristica del Cable"
   ]
  },
  {
   "cell_type": "code",
   "execution_count": 33,
   "metadata": {},
   "outputs": [
    {
     "name": "stdout",
     "output_type": "stream",
     "text": [
      "El valor de la Impedancia Caracteristica del Cable es: 72.75 Ohm\n"
     ]
    }
   ],
   "source": [
    "Zo = np.sqrt(Ll/(Cl))\n",
    "print(f\"El valor de la Impedancia Caracteristica del Cable es: {Zo:.2f} Ohm\")"
   ]
  }
 ],
 "metadata": {
  "kernelspec": {
   "display_name": "Python 3",
   "language": "python",
   "name": "python3"
  },
  "language_info": {
   "codemirror_mode": {
    "name": "ipython",
    "version": 3
   },
   "file_extension": ".py",
   "mimetype": "text/x-python",
   "name": "python",
   "nbconvert_exporter": "python",
   "pygments_lexer": "ipython3",
   "version": "3.11.9"
  }
 },
 "nbformat": 4,
 "nbformat_minor": 2
}
